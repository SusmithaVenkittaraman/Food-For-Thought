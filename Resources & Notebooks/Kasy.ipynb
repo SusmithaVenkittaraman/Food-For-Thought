{
 "cells": [
  {
   "cell_type": "code",
   "execution_count": 1,
   "metadata": {
    "scrolled": true
   },
   "outputs": [],
   "source": [
    "import pandas as pd\n",
    "import numpy as np\n",
    "import matplotlib.pyplot as plt\n",
    "from scipy.stats import linregress\n",
    "\n",
    "file_worldwide = \"./Kasy-Resources/worldwide-sbux-locations.csv\"\n",
    "file_mcd = \"./Kasy-Resources/mcdonalds_locations.csv\"\n",
    "sbux_nutrition = \"./Kasy-Resources/starbucks-menu-nutrition-drinks.csv\"\n",
    "subway_nutrition = \"./Kasy-Resources/subway_nutrition.csv\"\n",
    "# Use in final project \n",
    "mcd_nutrition = \"./Kasy-Resources/mcd_nutrition.csv\"\n",
    "\n",
    "\n",
    "\n",
    "sbux_df = pd.read_csv(file_worldwide)\n",
    "sbux_nutrition_df = pd.read_csv(sbux_nutrition)\n",
    "mcd_nutrition_df = pd.read_csv(mcd_nutrition)\n",
    "subway_nutrition_df = pd.read_csv(subway_nutrition)\n",
    "category_unique = mcd_nutrition_df[\"Category\"].unique()"
   ]
  },
  {
   "cell_type": "code",
   "execution_count": 3,
   "metadata": {},
   "outputs": [],
   "source": [
    "renamed_subway_df = subway_nutrition_df.rename(columns={\"Unnamed: 0\": \"Subway Item\"})\n"
   ]
  },
  {
   "cell_type": "code",
   "execution_count": null,
   "metadata": {},
   "outputs": [],
   "source": [
    "print(\"Welcome to McDonald's!\")\n",
    "print(\"-----------------------------------------\")\n",
    "print(\"Please select from the categories below:\")\n",
    "for i in range(0, len(category_unique)):\n",
    "    print(category_unique[i])\n",
    "category_response = input(\"What kind of food category would you like?\").title()\n",
    "response = input(\"What is the maximum calorie intake that you would like?\")\n",
    "answers = []\n",
    "calorie = []\n",
    "category_list = []\n",
    "\n",
    "for index,rows in mcd_nutrition_df.iterrows():\n",
    "    calories = rows['Calories']\n",
    "    category = rows['Category']\n",
    "    if calories <= int(response) and category == category_response:\n",
    "        answers.append(rows[\"Item\"])\n",
    "        calorie.append(rows[\"Calories\"])\n",
    "        category_list.append(rows[\"Category\"])\n",
    "\n",
    "answers_df = pd.DataFrame({\"Category\": category_list, \"Menu Items\": answers, \"Calorie\": calorie})\n",
    "\n"
   ]
  },
  {
   "cell_type": "code",
   "execution_count": null,
   "metadata": {},
   "outputs": [],
   "source": [
    "answers_df"
   ]
  },
  {
   "cell_type": "code",
   "execution_count": null,
   "metadata": {
    "scrolled": true
   },
   "outputs": [],
   "source": [
    "max_mcd_cal = mcd_nutrition_df[\"Calories\"].max()\n",
    "min_mcd_cal = mcd_nutrition_df[\"Calories\"].min()\n",
    "\n",
    "bins = [0, 100, 200, 300, 400, 500, 600, 700, 800, 900, 1000, 1100, 1200, 1300, 1400, 1500, 1600, 1700, 1800, 1900, 2000]\n",
    "labels = [\"0 to 100\", \"101 to 200\", \"201 to 300\", \"301 to 400\", \"401 to 500\", \"501 to 600\", \"601 to 700\", \n",
    "         \"701 to 800\", \"801 to 900\", \"901 to 1000\", \"1001 to 1100\", \"1101 to 1200\", \"1201 to 1300\", \"1301 to 1400\",\n",
    "         \"1401 to 1500\", \"1501 to 1600\", \"1601 to 1700\", \"1701 to 1800\", \"1801 to 1900\", \"1901 to 2000\"]\n",
    "\n",
    "mcd_nutrition_df[\"Calorie Groups\"] = pd.cut(mcd_nutrition_df[\"Calories\"], bins, labels=labels, include_lowest=True)\n",
    "mcd_nutrition_df"
   ]
  },
  {
   "cell_type": "code",
   "execution_count": null,
   "metadata": {
    "scrolled": true
   },
   "outputs": [],
   "source": [
    "max_subway_cal = renamed_subway_df[\"Calories\"].max()\n",
    "min_subway_cal = renamed_subway_df[\"Calories\"].min()\n",
    "\n",
    "bins = [0, 100, 200, 300, 400, 500, 600, 700, 800, 900, 1000, 1100, 1200, 1300, 1400, 1500, 1600, 1700, 1800, 1900, 2000]\n",
    "labels = [\"0 to 100\", \"101 to 200\", \"201 to 300\", \"301 to 400\", \"401 to 500\", \"501 to 600\", \"601 to 700\", \n",
    "         \"701 to 800\", \"801 to 900\", \"901 to 1000\", \"1001 to 1100\", \"1101 to 1200\", \"1201 to 1300\", \"1301 to 1400\",\n",
    "         \"1401 to 1500\", \"1501 to 1600\", \"1601 to 1700\", \"1701 to 1800\", \"1801 to 1900\", \"1901 to 2000\"]\n",
    "\n",
    "renamed_subway_df[\"Calorie Groups\"] = pd.cut(renamed_subway_df[\"Calories\"], bins, labels=labels, include_lowest=True)\n",
    "renamed_subway_df"
   ]
  },
  {
   "cell_type": "code",
   "execution_count": null,
   "metadata": {
    "scrolled": true
   },
   "outputs": [],
   "source": [
    "renamed_subway_df[\"Category\"].unique()"
   ]
  },
  {
   "cell_type": "code",
   "execution_count": null,
   "metadata": {},
   "outputs": [],
   "source": [
    "mcd_nutrition_df[\"Category\"].unique()"
   ]
  },
  {
   "cell_type": "code",
   "execution_count": null,
   "metadata": {},
   "outputs": [],
   "source": [
    "mcd_drinks = mcd_nutrition_df.loc[(mcd_nutrition_df[\"Category\"] == \"Beverages\") | (mcd_nutrition_df[\"Category\"] == \"Coffee & Tea\") |\n",
    "                    (mcd_nutrition_df[\"Category\"] == \"Smoothies & Shakes\")]\n"
   ]
  },
  {
   "cell_type": "code",
   "execution_count": null,
   "metadata": {
    "scrolled": true
   },
   "outputs": [],
   "source": [
    "# # Household incomes \n",
    "\n",
    "# ca_income = income_df.loc[income_df[\"State_Name\"] == \"California\"]\n",
    "# ca_income = ca_income[[\"State_Name\", \"City\", \"Mean\", \"Median\", \"Stdev\"]]\n",
    "# ca_income = ca_income.rename({\"State_Name\": \"State\"}).reset_index()\n",
    "# ca_income = ca_income.drop(columns=\"index\")\n",
    "# median = ca_income.groupby(\"City\").median()[\"Median\"]\n",
    "# mean = ca_income.groupby(\"City\").mean()[\"Mean\"]\n",
    "\n",
    "# ca_income_cleaned = {\"Mean\": mean, \n",
    "#                     \"Median\": median}\n",
    "# ca_income_cleaned_df = pd.DataFrame(ca_income_cleaned)\n",
    "# ca_income_cleaned_df\n"
   ]
  },
  {
   "cell_type": "code",
   "execution_count": null,
   "metadata": {},
   "outputs": [],
   "source": [
    "# test = ca_income_cleaned_df.groupby([\"City\"]).mean().reset_index()\n",
    "# test\n",
    "# # ca_income_cleaned_df.sort_values(by=\"Median\", ascending=False).head(50)\n",
    "# test.loc[test[\"City\"] == \"San diego\"]"
   ]
  },
  {
   "cell_type": "code",
   "execution_count": null,
   "metadata": {},
   "outputs": [],
   "source": [
    "us_sbux = worldwide_sbux[worldwide_sbux[\"Country\"] == \"US\"]\n",
    "ca_sbux[\"City\"] = ca_sbux[\"City\"].str.capitalize()\n",
    "ca_sbux = ca_sbux.replace(\"Ahaheim\", \"Anaheim\")\n",
    "ca_sbux = ca_sbux.replace(\"Ahaheim hills\", \"Anaheim\")\n",
    "ca_sbux = ca_sbux.replace(\"Gold river\", \"Goleta\")\n",
    "ca_sbux = ca_sbux.replace(\"San francisco intl a\", \"San francisco\")\n",
    "ca_sbux = ca_sbux.replace(\"Sandiego\", \"San diego\")\n",
    "ca_sbux = ca_sbux.replace(\"South corona\", \"Corona\")\n",
    "ca_sbux = ca_sbux.replace(\"South san francisco\", \"San francisco\")\n",
    "ca_sbux = ca_sbux.replace(\"Stanford\", \"Palo alto\")\n",
    "ca_sbux = ca_sbux.replace(\"Travis afb\", \"Fairfield\")\n",
    "ca_sbux = ca_sbux.replace(\"West hollywood\", \"Los angeles\")\n",
    "ca_sbux = ca_sbux.replace(\"Westlake\", \"Westlake village\")\n",
    "ca_sbux = ca_sbux.replace(\"Westwood\", \"Los angeles\")\n",
    "ca_sbux = ca_sbux[[\"City\", \"State/Province\", \"Country\"]]\n",
    "ca_sbux_cleaned = ca_sbux.groupby([\"City\"]).count().reset_index()\n",
    "ca_sbux_cleaned.sort_values(by=\"State/Province\")"
   ]
  },
  {
   "cell_type": "code",
   "execution_count": null,
   "metadata": {},
   "outputs": [],
   "source": [
    "# merged_df = pd.merge(ca_sbux_cleaned, ca_income_cleaned_df, on=\"City\", how=\"inner\")\n",
    "# merged_df = merged_df[[\"Country\", \"Mean\", \"Median\"]]\n",
    "# merged_df_cleaned = merged_df.rename(columns={\"Country\":\"Starbuck Stores\", \n",
    "#                                      \"Mean\":\"Mean Income\", \n",
    "#                                      \"Median\":\"Median Income\"})\n",
    "# merged_df_cleaned"
   ]
  },
  {
   "cell_type": "code",
   "execution_count": null,
   "metadata": {},
   "outputs": [],
   "source": [
    "# x_axis = merged_df_cleaned[\"Starbuck Stores\"]\n",
    "# y_axis = merged_df_cleaned[\"Median Income\"]\n",
    "# plt.scatter(x_axis, y_axis, marker=\"o\", facecolors=\"blue\", alpha=0.5)\n",
    "# (slope, intercept, rvalue, pvalue, stderr) = linregress(x_axis, y_axis)\n",
    "# regress_values = x_axis * slope + intercept\n",
    "# line_eq = \"y = \" + str(round(slope,2)) + \"x + \" + str(round(intercept,2))\n",
    "# plt.plot(x_axis,regress_values,\"r-\")\n",
    "# plt.title(\"Number of starbuck Stores vs. Median Income\")\n",
    "# plt.xlabel(\"Number of Starbuck Stores\")\n",
    "# plt.ylabel(\"Median Income\")\n",
    "# plt.annotate(line_eq,(20,100000),fontsize=15,color=\"red\")"
   ]
  },
  {
   "cell_type": "code",
   "execution_count": null,
   "metadata": {},
   "outputs": [],
   "source": [
    "# x_axis = merged_df_cleaned[\"Starbuck Stores\"]\n",
    "# y_axis = merged_df_cleaned[\"Median Income\"]\n",
    "# plt.scatter(y_axis, x_axis, marker=\"o\", facecolors=\"blue\", alpha=0.5)\n",
    "# (slope, intercept, rvalue, pvalue, stderr) = linregress(y_axis, x_axis)\n",
    "# regress_values = y_axis * slope + intercept\n",
    "# line_eq = \"y = \" + str(round(slope,2)) + \"x + \" + str(round(intercept,2))\n",
    "# plt.plot(y_axis,regress_values,\"r-\")\n",
    "# plt.title(\"Number of starbuck Stores vs. Median Income\")\n",
    "# plt.ylabel(\"Number of Starbuck Stores\")\n",
    "# plt.xlabel(\"Median Income\")\n",
    "# plt.annotate(line_eq,(50000, 40),fontsize=15,color=\"red\")\n",
    "# print(rvalue)"
   ]
  },
  {
   "cell_type": "code",
   "execution_count": null,
   "metadata": {},
   "outputs": [],
   "source": [
    "# bins = [0,50, 100, 150, 200, 250, 300, 350, 400, 450, 500, 550, 600, 650, 700, 750, 800, 850, 900, \n",
    "#        950, 1000, 1050, 1100, 1150, 1200, 1250, 1300, 1350, 1400, 1450, 1500, 1550, 1600, 1650, 1700, \n",
    "#        1750, 1800, 1900, 1950, 2000]"
   ]
  }
 ],
 "metadata": {
  "kernelspec": {
   "display_name": "Python 3",
   "language": "python",
   "name": "python3"
  },
  "language_info": {
   "codemirror_mode": {
    "name": "ipython",
    "version": 3
   },
   "file_extension": ".py",
   "mimetype": "text/x-python",
   "name": "python",
   "nbconvert_exporter": "python",
   "pygments_lexer": "ipython3",
   "version": "3.8.5"
  }
 },
 "nbformat": 4,
 "nbformat_minor": 4
}
