{
 "cells": [
  {
   "cell_type": "code",
   "execution_count": 4,
   "metadata": {
    "scrolled": true
   },
   "outputs": [],
   "source": [
    "import pandas as pd\n",
    "import numpy as np\n",
    "import matplotlib.pyplot as plt\n",
    "\n",
    "\n",
    "file_drink_nutrition = \"./Kasy-Resources/starbucks-menu-nutrition-drinks.csv\"\n",
    "file_worldwide = \"./Kasy-Resources/worldwide-sbux-locations.csv\"\n",
    "county_info = \"./Priya's Resources/Farmers Markets/wiki_county_info.csv\" \n",
    "file_income = \"./Kasy-Resources/kaggle_income.csv\"\n",
    "\n",
    "sbux_df = pd.read_csv(file_drink_nutrition)\n",
    "sbux_df = sbux_df.rename(columns={\"Unnamed: 0\":\"Starbucks Drink Name\"})\n",
    "worldwide_sbux = pd.read_csv(file_worldwide)\n",
    "county_df = pd.read_csv(county_info)\n",
    "income_df = pd.read_csv(file_income, encoding=\"ISO-8859-1\")"
   ]
  },
  {
   "cell_type": "code",
   "execution_count": 6,
   "metadata": {
    "scrolled": true
   },
   "outputs": [],
   "source": [
    "# Household incomes \n",
    "\n",
    "ca_income = income_df.loc[income_df[\"State_Name\"] == \"California\"]\n",
    "ca_income = ca_income[[\"State_Name\", \"City\", \"Mean\", \"Median\", \"Stdev\"]]\n",
    "ca_income = ca_income.rename({\"State_Name\": \"State\"}).reset_index()\n",
    "ca_income = ca_income.drop(columns=\"index\")\n",
    "median = ca_income.groupby(\"City\").median()[\"Median\"]\n",
    "mean = ca_income.groupby(\"City\").mean()[\"Mean\"]\n",
    "\n",
    "ca_income_cleaned = {\"Mean\": mean, \n",
    "                    \"Median\": median}\n",
    "ca_income_cleaned_df = pd.DataFrame(ca_income_cleaned)\n"
   ]
  },
  {
   "cell_type": "code",
   "execution_count": 7,
   "metadata": {},
   "outputs": [
    {
     "name": "stderr",
     "output_type": "stream",
     "text": [
      "<ipython-input-7-92830905ae1d>:3: SettingWithCopyWarning: \n",
      "A value is trying to be set on a copy of a slice from a DataFrame.\n",
      "Try using .loc[row_indexer,col_indexer] = value instead\n",
      "\n",
      "See the caveats in the documentation: https://pandas.pydata.org/pandas-docs/stable/user_guide/indexing.html#returning-a-view-versus-a-copy\n",
      "  ca_sbux[\"City\"] = ca_sbux[\"City\"].str.capitalize()\n"
     ]
    }
   ],
   "source": [
    "us_sbux = worldwide_sbux[worldwide_sbux[\"Country\"] == \"US\"]\n",
    "ca_sbux = us_sbux[us_sbux[\"State/Province\"] == \"CA\"]\n",
    "ca_sbux[\"City\"] = ca_sbux[\"City\"].str.capitalize()\n",
    "ca_sbux = ca_sbux.replace(\"Ahaheim\", \"Anaheim\")\n",
    "ca_sbux = ca_sbux.replace(\"Ahaheim hills\", \"Anaheim\")\n",
    "ca_sbux = ca_sbux.replace(\"Gold river\", \"Goleta\")\n",
    "ca_sbux = ca_sbux.replace(\"San francisco intl a\", \"San francisco\")\n",
    "ca_sbux = ca_sbux.replace(\"Sandiego\", \"San diego\")\n",
    "ca_sbux = ca_sbux.replace(\"South corona\", \"Corona\")\n",
    "ca_sbux = ca_sbux.replace(\"South san francisco\", \"San francisco\")\n",
    "ca_sbux = ca_sbux.replace(\"South san francisco\", \"San francisco\")\n",
    "ca_sbux = ca_sbux.replace(\"South san francisco\", \"San francisco\")\n",
    "ca_sbux = ca_sbux.replace(\"Stanford\", \"Palo alto\")\n",
    "ca_sbux = ca_sbux.replace(\"Travis afb\", \"Fairfield\")\n",
    "ca_sbux = ca_sbux.replace(\"West hollywood\", \"Los angeles\")\n",
    "ca_sbux = ca_sbux.replace(\"Westlake\", \"Westlake village\")\n",
    "ca_sbux = ca_sbux.replace(\"Westwood\", \"Los angeles\")\n",
    "ca_sbux = ca_sbux[[\"City\", \"State/Province\", \"Country\"]]\n",
    "ca_sbux_cleaned = ca_sbux.groupby([\"City\"]).count()\n"
   ]
  },
  {
   "cell_type": "code",
   "execution_count": 8,
   "metadata": {},
   "outputs": [
    {
     "data": {
      "text/html": [
       "<div>\n",
       "<style scoped>\n",
       "    .dataframe tbody tr th:only-of-type {\n",
       "        vertical-align: middle;\n",
       "    }\n",
       "\n",
       "    .dataframe tbody tr th {\n",
       "        vertical-align: top;\n",
       "    }\n",
       "\n",
       "    .dataframe thead th {\n",
       "        text-align: right;\n",
       "    }\n",
       "</style>\n",
       "<table border=\"1\" class=\"dataframe\">\n",
       "  <thead>\n",
       "    <tr style=\"text-align: right;\">\n",
       "      <th></th>\n",
       "      <th>State/Province</th>\n",
       "      <th>Country</th>\n",
       "      <th>Mean</th>\n",
       "      <th>Median</th>\n",
       "    </tr>\n",
       "    <tr>\n",
       "      <th>City</th>\n",
       "      <th></th>\n",
       "      <th></th>\n",
       "      <th></th>\n",
       "      <th></th>\n",
       "    </tr>\n",
       "  </thead>\n",
       "  <tbody>\n",
       "    <tr>\n",
       "      <th>Adelanto</th>\n",
       "      <td>1</td>\n",
       "      <td>1</td>\n",
       "      <td>36944.000000</td>\n",
       "      <td>17430.0</td>\n",
       "    </tr>\n",
       "    <tr>\n",
       "      <th>Agoura</th>\n",
       "      <td>1</td>\n",
       "      <td>1</td>\n",
       "      <td>140704.000000</td>\n",
       "      <td>300000.0</td>\n",
       "    </tr>\n",
       "    <tr>\n",
       "      <th>Alameda</th>\n",
       "      <td>7</td>\n",
       "      <td>7</td>\n",
       "      <td>89726.375000</td>\n",
       "      <td>68699.5</td>\n",
       "    </tr>\n",
       "    <tr>\n",
       "      <th>Albany</th>\n",
       "      <td>1</td>\n",
       "      <td>1</td>\n",
       "      <td>98633.000000</td>\n",
       "      <td>300000.0</td>\n",
       "    </tr>\n",
       "    <tr>\n",
       "      <th>Alhambra</th>\n",
       "      <td>6</td>\n",
       "      <td>6</td>\n",
       "      <td>75486.222222</td>\n",
       "      <td>58614.0</td>\n",
       "    </tr>\n",
       "    <tr>\n",
       "      <th>...</th>\n",
       "      <td>...</td>\n",
       "      <td>...</td>\n",
       "      <td>...</td>\n",
       "      <td>...</td>\n",
       "    </tr>\n",
       "    <tr>\n",
       "      <th>Winchester</th>\n",
       "      <td>1</td>\n",
       "      <td>1</td>\n",
       "      <td>117607.000000</td>\n",
       "      <td>300000.0</td>\n",
       "    </tr>\n",
       "    <tr>\n",
       "      <th>Windsor</th>\n",
       "      <td>4</td>\n",
       "      <td>4</td>\n",
       "      <td>90040.000000</td>\n",
       "      <td>65017.0</td>\n",
       "    </tr>\n",
       "    <tr>\n",
       "      <th>Woodland</th>\n",
       "      <td>4</td>\n",
       "      <td>4</td>\n",
       "      <td>69934.400000</td>\n",
       "      <td>44024.0</td>\n",
       "    </tr>\n",
       "    <tr>\n",
       "      <th>Yreka</th>\n",
       "      <td>1</td>\n",
       "      <td>1</td>\n",
       "      <td>47362.000000</td>\n",
       "      <td>43058.0</td>\n",
       "    </tr>\n",
       "    <tr>\n",
       "      <th>Yucaipa</th>\n",
       "      <td>3</td>\n",
       "      <td>3</td>\n",
       "      <td>61501.000000</td>\n",
       "      <td>47516.0</td>\n",
       "    </tr>\n",
       "  </tbody>\n",
       "</table>\n",
       "<p>258 rows × 4 columns</p>\n",
       "</div>"
      ],
      "text/plain": [
       "            State/Province  Country           Mean    Median\n",
       "City                                                        \n",
       "Adelanto                 1        1   36944.000000   17430.0\n",
       "Agoura                   1        1  140704.000000  300000.0\n",
       "Alameda                  7        7   89726.375000   68699.5\n",
       "Albany                   1        1   98633.000000  300000.0\n",
       "Alhambra                 6        6   75486.222222   58614.0\n",
       "...                    ...      ...            ...       ...\n",
       "Winchester               1        1  117607.000000  300000.0\n",
       "Windsor                  4        4   90040.000000   65017.0\n",
       "Woodland                 4        4   69934.400000   44024.0\n",
       "Yreka                    1        1   47362.000000   43058.0\n",
       "Yucaipa                  3        3   61501.000000   47516.0\n",
       "\n",
       "[258 rows x 4 columns]"
      ]
     },
     "execution_count": 8,
     "metadata": {},
     "output_type": "execute_result"
    }
   ],
   "source": [
    "merged_df = pd.merge(ca_sbux_cleaned, ca_income_cleaned_df, on=\"City\", how=\"inner\")\n",
    "merged_df"
   ]
  },
  {
   "cell_type": "code",
   "execution_count": 13,
   "metadata": {},
   "outputs": [],
   "source": [
    "merged_df = merged_df[[\"Country\", \"Mean\", \"Median\"]]"
   ]
  },
  {
   "cell_type": "code",
   "execution_count": 11,
   "metadata": {},
   "outputs": [],
   "source": [
    "merged_df_cleaned = merged_df.rename(columns={\"Country\":\"Starbuck Stores\", \n",
    "                                     \"Mean\":\"Mean Income\", \n",
    "                                     \"Median\":\"Median Income\"})"
   ]
  },
  {
   "cell_type": "code",
   "execution_count": 22,
   "metadata": {},
   "outputs": [
    {
     "data": {
      "text/plain": [
       "Text(0, 0.5, 'Median Income')"
      ]
     },
     "execution_count": 22,
     "metadata": {},
     "output_type": "execute_result"
    },
    {
     "data": {
      "image/png": "[encoded data removed]",
      "text/plain": [
       "<Figure size 432x288 with 1 Axes>"
      ]
     },
     "metadata": {
      "needs_background": "light"
     },
     "output_type": "display_data"
    }
   ],
   "source": [
    "x_axis = merged_df_cleaned[\"Starbuck Stores\"]\n",
    "y_axis = merged_df_cleaned[\"Median Income\"]\n",
    "plt.scatter(x_axis, y_axis, marker=\"o\", facecolors=\"coral\", alpha=0.5)\n",
    "plt.title(\"Number of starbuck Stores vs. Median Income\")\n",
    "plt.xlabel(\"Number of Starbuck Stores\")\n",
    "plt.ylabel(\"Median Income\")"
   ]
  }
 ],
 "metadata": {
  "kernelspec": {
   "display_name": "Python 3",
   "language": "python",
   "name": "python3"
  },
  "language_info": {
   "codemirror_mode": {
    "name": "ipython",
    "version": 3
   },
   "file_extension": ".py",
   "mimetype": "text/x-python",
   "name": "python",
   "nbconvert_exporter": "python",
   "pygments_lexer": "ipython3",
   "version": "3.8.5"
  }
 },
 "nbformat": 4,
 "nbformat_minor": 4
}
