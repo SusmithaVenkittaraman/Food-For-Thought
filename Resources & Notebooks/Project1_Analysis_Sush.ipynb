{
 "cells": [
  {
   "cell_type": "markdown",
   "metadata": {},
   "source": [
    "#### Importing the required Libraries"
   ]
  },
  {
   "cell_type": "code",
   "execution_count": 9,
   "metadata": {},
   "outputs": [],
   "source": [
    "import matplotlib.pyplot as plt\n",
    "import pandas as pd\n",
    "import scipy.stats as st\n",
    "import seaborn as sns\n",
    "import numpy as np"
   ]
  },
  {
   "cell_type": "markdown",
   "metadata": {},
   "source": [
    "#### Reading the necessary datasets"
   ]
  },
  {
   "cell_type": "code",
   "execution_count": 10,
   "metadata": {},
   "outputs": [
    {
     "data": {
      "text/html": [
       "<div>\n",
       "<style scoped>\n",
       "    .dataframe tbody tr th:only-of-type {\n",
       "        vertical-align: middle;\n",
       "    }\n",
       "\n",
       "    .dataframe tbody tr th {\n",
       "        vertical-align: top;\n",
       "    }\n",
       "\n",
       "    .dataframe thead th {\n",
       "        text-align: right;\n",
       "    }\n",
       "</style>\n",
       "<table border=\"1\" class=\"dataframe\">\n",
       "  <thead>\n",
       "    <tr style=\"text-align: right;\">\n",
       "      <th></th>\n",
       "      <th>name</th>\n",
       "      <th>id</th>\n",
       "      <th>minutes</th>\n",
       "      <th>contributor_id</th>\n",
       "      <th>submitted</th>\n",
       "      <th>tags</th>\n",
       "      <th>nutrition</th>\n",
       "      <th>n_steps</th>\n",
       "      <th>steps</th>\n",
       "      <th>description</th>\n",
       "      <th>ingredients</th>\n",
       "      <th>n_ingredients</th>\n",
       "    </tr>\n",
       "  </thead>\n",
       "  <tbody>\n",
       "    <tr>\n",
       "      <th>0</th>\n",
       "      <td>arriba   baked winter squash mexican style</td>\n",
       "      <td>137739</td>\n",
       "      <td>55</td>\n",
       "      <td>47892</td>\n",
       "      <td>2005-09-16</td>\n",
       "      <td>['60-minutes-or-less', 'time-to-make', 'course...</td>\n",
       "      <td>[51.5, 0.0, 13.0, 0.0, 2.0, 0.0, 4.0]</td>\n",
       "      <td>11</td>\n",
       "      <td>['make a choice and proceed with recipe', 'dep...</td>\n",
       "      <td>autumn is my favorite time of year to cook! th...</td>\n",
       "      <td>['winter squash', 'mexican seasoning', 'mixed ...</td>\n",
       "      <td>7</td>\n",
       "    </tr>\n",
       "    <tr>\n",
       "      <th>1</th>\n",
       "      <td>a bit different  breakfast pizza</td>\n",
       "      <td>31490</td>\n",
       "      <td>30</td>\n",
       "      <td>26278</td>\n",
       "      <td>2002-06-17</td>\n",
       "      <td>['30-minutes-or-less', 'time-to-make', 'course...</td>\n",
       "      <td>[173.4, 18.0, 0.0, 17.0, 22.0, 35.0, 1.0]</td>\n",
       "      <td>9</td>\n",
       "      <td>['preheat oven to 425 degrees f', 'press dough...</td>\n",
       "      <td>this recipe calls for the crust to be prebaked...</td>\n",
       "      <td>['prepared pizza crust', 'sausage patty', 'egg...</td>\n",
       "      <td>6</td>\n",
       "    </tr>\n",
       "    <tr>\n",
       "      <th>2</th>\n",
       "      <td>all in the kitchen  chili</td>\n",
       "      <td>112140</td>\n",
       "      <td>130</td>\n",
       "      <td>196586</td>\n",
       "      <td>2005-02-25</td>\n",
       "      <td>['time-to-make', 'course', 'preparation', 'mai...</td>\n",
       "      <td>[269.8, 22.0, 32.0, 48.0, 39.0, 27.0, 5.0]</td>\n",
       "      <td>6</td>\n",
       "      <td>['brown ground beef in large pot', 'add choppe...</td>\n",
       "      <td>this modified version of 'mom's' chili was a h...</td>\n",
       "      <td>['ground beef', 'yellow onions', 'diced tomato...</td>\n",
       "      <td>13</td>\n",
       "    </tr>\n",
       "    <tr>\n",
       "      <th>3</th>\n",
       "      <td>alouette  potatoes</td>\n",
       "      <td>59389</td>\n",
       "      <td>45</td>\n",
       "      <td>68585</td>\n",
       "      <td>2003-04-14</td>\n",
       "      <td>['60-minutes-or-less', 'time-to-make', 'course...</td>\n",
       "      <td>[368.1, 17.0, 10.0, 2.0, 14.0, 8.0, 20.0]</td>\n",
       "      <td>11</td>\n",
       "      <td>['place potatoes in a large pot of lightly sal...</td>\n",
       "      <td>this is a super easy, great tasting, make ahea...</td>\n",
       "      <td>['spreadable cheese with garlic and herbs', 'n...</td>\n",
       "      <td>11</td>\n",
       "    </tr>\n",
       "    <tr>\n",
       "      <th>4</th>\n",
       "      <td>amish  tomato ketchup  for canning</td>\n",
       "      <td>44061</td>\n",
       "      <td>190</td>\n",
       "      <td>41706</td>\n",
       "      <td>2002-10-25</td>\n",
       "      <td>['weeknight', 'time-to-make', 'course', 'main-...</td>\n",
       "      <td>[352.9, 1.0, 337.0, 23.0, 3.0, 0.0, 28.0]</td>\n",
       "      <td>5</td>\n",
       "      <td>['mix all ingredients&amp; boil for 2 1 / 2 hours ...</td>\n",
       "      <td>my dh's amish mother raised him on this recipe...</td>\n",
       "      <td>['tomato juice', 'apple cider vinegar', 'sugar...</td>\n",
       "      <td>8</td>\n",
       "    </tr>\n",
       "  </tbody>\n",
       "</table>\n",
       "</div>"
      ],
      "text/plain": [
       "                                         name      id  minutes  \\\n",
       "0  arriba   baked winter squash mexican style  137739       55   \n",
       "1            a bit different  breakfast pizza   31490       30   \n",
       "2                   all in the kitchen  chili  112140      130   \n",
       "3                          alouette  potatoes   59389       45   \n",
       "4          amish  tomato ketchup  for canning   44061      190   \n",
       "\n",
       "   contributor_id   submitted  \\\n",
       "0           47892  2005-09-16   \n",
       "1           26278  2002-06-17   \n",
       "2          196586  2005-02-25   \n",
       "3           68585  2003-04-14   \n",
       "4           41706  2002-10-25   \n",
       "\n",
       "                                                tags  \\\n",
       "0  ['60-minutes-or-less', 'time-to-make', 'course...   \n",
       "1  ['30-minutes-or-less', 'time-to-make', 'course...   \n",
       "2  ['time-to-make', 'course', 'preparation', 'mai...   \n",
       "3  ['60-minutes-or-less', 'time-to-make', 'course...   \n",
       "4  ['weeknight', 'time-to-make', 'course', 'main-...   \n",
       "\n",
       "                                    nutrition  n_steps  \\\n",
       "0       [51.5, 0.0, 13.0, 0.0, 2.0, 0.0, 4.0]       11   \n",
       "1   [173.4, 18.0, 0.0, 17.0, 22.0, 35.0, 1.0]        9   \n",
       "2  [269.8, 22.0, 32.0, 48.0, 39.0, 27.0, 5.0]        6   \n",
       "3   [368.1, 17.0, 10.0, 2.0, 14.0, 8.0, 20.0]       11   \n",
       "4   [352.9, 1.0, 337.0, 23.0, 3.0, 0.0, 28.0]        5   \n",
       "\n",
       "                                               steps  \\\n",
       "0  ['make a choice and proceed with recipe', 'dep...   \n",
       "1  ['preheat oven to 425 degrees f', 'press dough...   \n",
       "2  ['brown ground beef in large pot', 'add choppe...   \n",
       "3  ['place potatoes in a large pot of lightly sal...   \n",
       "4  ['mix all ingredients& boil for 2 1 / 2 hours ...   \n",
       "\n",
       "                                         description  \\\n",
       "0  autumn is my favorite time of year to cook! th...   \n",
       "1  this recipe calls for the crust to be prebaked...   \n",
       "2  this modified version of 'mom's' chili was a h...   \n",
       "3  this is a super easy, great tasting, make ahea...   \n",
       "4  my dh's amish mother raised him on this recipe...   \n",
       "\n",
       "                                         ingredients  n_ingredients  \n",
       "0  ['winter squash', 'mexican seasoning', 'mixed ...              7  \n",
       "1  ['prepared pizza crust', 'sausage patty', 'egg...              6  \n",
       "2  ['ground beef', 'yellow onions', 'diced tomato...             13  \n",
       "3  ['spreadable cheese with garlic and herbs', 'n...             11  \n",
       "4  ['tomato juice', 'apple cider vinegar', 'sugar...              8  "
      ]
     },
     "execution_count": 10,
     "metadata": {},
     "output_type": "execute_result"
    }
   ],
   "source": [
    "\n",
    "#Recipes_Dataset\n",
    "\n",
    "# Load in csv\n",
    "recipes_df = pd.read_csv(\"./Sush_Resources/RAW_recipes.csv\")\n",
    "recipes_df.head()"
   ]
  },
  {
   "cell_type": "code",
   "execution_count": 12,
   "metadata": {},
   "outputs": [
    {
     "data": {
      "text/html": [
       "<div>\n",
       "<style scoped>\n",
       "    .dataframe tbody tr th:only-of-type {\n",
       "        vertical-align: middle;\n",
       "    }\n",
       "\n",
       "    .dataframe tbody tr th {\n",
       "        vertical-align: top;\n",
       "    }\n",
       "\n",
       "    .dataframe thead th {\n",
       "        text-align: right;\n",
       "    }\n",
       "</style>\n",
       "<table border=\"1\" class=\"dataframe\">\n",
       "  <thead>\n",
       "    <tr style=\"text-align: right;\">\n",
       "      <th></th>\n",
       "      <th>user_id</th>\n",
       "      <th>recipe_id</th>\n",
       "      <th>date</th>\n",
       "      <th>rating</th>\n",
       "      <th>review</th>\n",
       "    </tr>\n",
       "  </thead>\n",
       "  <tbody>\n",
       "    <tr>\n",
       "      <th>0</th>\n",
       "      <td>38094</td>\n",
       "      <td>40893</td>\n",
       "      <td>2003-02-17</td>\n",
       "      <td>4</td>\n",
       "      <td>Great with a salad. Cooked on top of stove for...</td>\n",
       "    </tr>\n",
       "    <tr>\n",
       "      <th>1</th>\n",
       "      <td>1293707</td>\n",
       "      <td>40893</td>\n",
       "      <td>2011-12-21</td>\n",
       "      <td>5</td>\n",
       "      <td>So simple, so delicious! Great for chilly fall...</td>\n",
       "    </tr>\n",
       "    <tr>\n",
       "      <th>2</th>\n",
       "      <td>8937</td>\n",
       "      <td>44394</td>\n",
       "      <td>2002-12-01</td>\n",
       "      <td>4</td>\n",
       "      <td>This worked very well and is EASY.  I used not...</td>\n",
       "    </tr>\n",
       "    <tr>\n",
       "      <th>3</th>\n",
       "      <td>126440</td>\n",
       "      <td>85009</td>\n",
       "      <td>2010-02-27</td>\n",
       "      <td>5</td>\n",
       "      <td>I made the Mexican topping and took it to bunk...</td>\n",
       "    </tr>\n",
       "    <tr>\n",
       "      <th>4</th>\n",
       "      <td>57222</td>\n",
       "      <td>85009</td>\n",
       "      <td>2011-10-01</td>\n",
       "      <td>5</td>\n",
       "      <td>Made the cheddar bacon topping, adding a sprin...</td>\n",
       "    </tr>\n",
       "  </tbody>\n",
       "</table>\n",
       "</div>"
      ],
      "text/plain": [
       "   user_id  recipe_id        date  rating  \\\n",
       "0    38094      40893  2003-02-17       4   \n",
       "1  1293707      40893  2011-12-21       5   \n",
       "2     8937      44394  2002-12-01       4   \n",
       "3   126440      85009  2010-02-27       5   \n",
       "4    57222      85009  2011-10-01       5   \n",
       "\n",
       "                                              review  \n",
       "0  Great with a salad. Cooked on top of stove for...  \n",
       "1  So simple, so delicious! Great for chilly fall...  \n",
       "2  This worked very well and is EASY.  I used not...  \n",
       "3  I made the Mexican topping and took it to bunk...  \n",
       "4  Made the cheddar bacon topping, adding a sprin...  "
      ]
     },
     "execution_count": 12,
     "metadata": {},
     "output_type": "execute_result"
    }
   ],
   "source": [
    "\n",
    "#Recipes_Dataset\n",
    "\n",
    "# Load in csv\n",
    "interaction_df = pd.read_csv(\"./Sush_Resources/RAW_interactions.csv\")\n",
    "interaction_df.head()"
   ]
  },
  {
   "cell_type": "markdown",
   "metadata": {},
   "source": [
    "## cleaning the dataset"
   ]
  },
  {
   "cell_type": "code",
   "execution_count": 13,
   "metadata": {},
   "outputs": [
    {
     "data": {
      "text/plain": [
       "Index(['name', 'id', 'minutes', 'contributor_id', 'submitted', 'tags',\n",
       "       'nutrition', 'n_steps', 'steps', 'description', 'ingredients',\n",
       "       'n_ingredients'],\n",
       "      dtype='object')"
      ]
     },
     "execution_count": 13,
     "metadata": {},
     "output_type": "execute_result"
    }
   ],
   "source": [
    "recipes_df.columns"
   ]
  },
  {
   "cell_type": "code",
   "execution_count": 14,
   "metadata": {},
   "outputs": [
    {
     "data": {
      "text/plain": [
       "name              object\n",
       "id                 int64\n",
       "minutes            int64\n",
       "contributor_id     int64\n",
       "submitted         object\n",
       "tags              object\n",
       "nutrition         object\n",
       "n_steps            int64\n",
       "steps             object\n",
       "description       object\n",
       "ingredients       object\n",
       "n_ingredients      int64\n",
       "dtype: object"
      ]
     },
     "execution_count": 14,
     "metadata": {},
     "output_type": "execute_result"
    }
   ],
   "source": [
    "recipes_df.dtypes"
   ]
  },
  {
   "cell_type": "code",
   "execution_count": 15,
   "metadata": {},
   "outputs": [
    {
     "data": {
      "text/plain": [
       "name                        object\n",
       "id                           int64\n",
       "minutes                      int64\n",
       "contributor_id               int64\n",
       "submitted                   object\n",
       "tags                        object\n",
       "nutrition                   object\n",
       "n_steps                      int64\n",
       "steps                       object\n",
       "description                 object\n",
       "ingredients                 object\n",
       "n_ingredients                int64\n",
       "submitted_parsed    datetime64[ns]\n",
       "dtype: object"
      ]
     },
     "execution_count": 15,
     "metadata": {},
     "output_type": "execute_result"
    }
   ],
   "source": [
    "#the date is a string converting that into the right format\n",
    "#from datetime import datetime\n",
    "# creating a new column, date_parsed, with the parsed dates\n",
    "recipes_df['submitted_parsed'] = pd.to_datetime(recipes_df['submitted'], format = \"%Y/%m/%d\")\n",
    "recipes_df.dtypes\n"
   ]
  },
  {
   "cell_type": "code",
   "execution_count": 16,
   "metadata": {},
   "outputs": [
    {
     "data": {
      "text/plain": [
       "name                231636\n",
       "id                  231637\n",
       "minutes             231637\n",
       "contributor_id      231637\n",
       "submitted           231637\n",
       "tags                231637\n",
       "nutrition           231637\n",
       "n_steps             231637\n",
       "steps               231637\n",
       "description         226658\n",
       "ingredients         231637\n",
       "n_ingredients       231637\n",
       "submitted_parsed    231637\n",
       "dtype: int64"
      ]
     },
     "execution_count": 16,
     "metadata": {},
     "output_type": "execute_result"
    }
   ],
   "source": [
    "#checking if there are missing values\n",
    "recipes_df.count()"
   ]
  },
  {
   "cell_type": "code",
   "execution_count": 17,
   "metadata": {},
   "outputs": [
    {
     "data": {
      "text/plain": [
       "name                226657\n",
       "id                  226657\n",
       "minutes             226657\n",
       "contributor_id      226657\n",
       "submitted           226657\n",
       "tags                226657\n",
       "nutrition           226657\n",
       "n_steps             226657\n",
       "steps               226657\n",
       "description         226657\n",
       "ingredients         226657\n",
       "n_ingredients       226657\n",
       "submitted_parsed    226657\n",
       "dtype: int64"
      ]
     },
     "execution_count": 17,
     "metadata": {},
     "output_type": "execute_result"
    }
   ],
   "source": [
    "#dropping all rows with missing information\n",
    "recipes_df = recipes_df.dropna(how='any')\n",
    "recipes_df.count()"
   ]
  },
  {
   "cell_type": "code",
   "execution_count": 18,
   "metadata": {},
   "outputs": [
    {
     "data": {
      "text/plain": [
       "user_id      1132198\n",
       "recipe_id    1132198\n",
       "date         1132198\n",
       "rating       1132198\n",
       "review       1132198\n",
       "dtype: int64"
      ]
     },
     "execution_count": 18,
     "metadata": {},
     "output_type": "execute_result"
    }
   ],
   "source": [
    "#dropping all rows with missing information\n",
    "interaction_df.count()\n",
    "interaction_df=interaction_df.dropna(how='any')\n",
    "interaction_df.count()"
   ]
  },
  {
   "cell_type": "code",
   "execution_count": 19,
   "metadata": {},
   "outputs": [
    {
     "data": {
      "text/plain": [
       "user_id                 int64\n",
       "recipe_id               int64\n",
       "date                   object\n",
       "rating                  int64\n",
       "review                 object\n",
       "date_parsed    datetime64[ns]\n",
       "dtype: object"
      ]
     },
     "execution_count": 19,
     "metadata": {},
     "output_type": "execute_result"
    }
   ],
   "source": [
    "#adding parsed date to interactions\n",
    "interaction_df['date_parsed'] = pd.to_datetime(interaction_df['date'], format = \"%Y/%m/%d\")\n",
    "interaction_df.dtypes"
   ]
  },
  {
   "cell_type": "code",
   "execution_count": 20,
   "metadata": {},
   "outputs": [
    {
     "data": {
      "text/html": [
       "<div>\n",
       "<style scoped>\n",
       "    .dataframe tbody tr th:only-of-type {\n",
       "        vertical-align: middle;\n",
       "    }\n",
       "\n",
       "    .dataframe tbody tr th {\n",
       "        vertical-align: top;\n",
       "    }\n",
       "\n",
       "    .dataframe thead th {\n",
       "        text-align: right;\n",
       "    }\n",
       "</style>\n",
       "<table border=\"1\" class=\"dataframe\">\n",
       "  <thead>\n",
       "    <tr style=\"text-align: right;\">\n",
       "      <th></th>\n",
       "      <th>name</th>\n",
       "      <th>recipe_id</th>\n",
       "      <th>minutes</th>\n",
       "      <th>contributor_id</th>\n",
       "      <th>submitted</th>\n",
       "      <th>tags</th>\n",
       "      <th>nutrition</th>\n",
       "      <th>n_steps</th>\n",
       "      <th>steps</th>\n",
       "      <th>description</th>\n",
       "      <th>ingredients</th>\n",
       "      <th>n_ingredients</th>\n",
       "      <th>submitted_parsed</th>\n",
       "    </tr>\n",
       "  </thead>\n",
       "  <tbody>\n",
       "    <tr>\n",
       "      <th>0</th>\n",
       "      <td>arriba   baked winter squash mexican style</td>\n",
       "      <td>137739</td>\n",
       "      <td>55</td>\n",
       "      <td>47892</td>\n",
       "      <td>2005-09-16</td>\n",
       "      <td>['60-minutes-or-less', 'time-to-make', 'course...</td>\n",
       "      <td>[51.5, 0.0, 13.0, 0.0, 2.0, 0.0, 4.0]</td>\n",
       "      <td>11</td>\n",
       "      <td>['make a choice and proceed with recipe', 'dep...</td>\n",
       "      <td>autumn is my favorite time of year to cook! th...</td>\n",
       "      <td>['winter squash', 'mexican seasoning', 'mixed ...</td>\n",
       "      <td>7</td>\n",
       "      <td>2005-09-16</td>\n",
       "    </tr>\n",
       "    <tr>\n",
       "      <th>1</th>\n",
       "      <td>a bit different  breakfast pizza</td>\n",
       "      <td>31490</td>\n",
       "      <td>30</td>\n",
       "      <td>26278</td>\n",
       "      <td>2002-06-17</td>\n",
       "      <td>['30-minutes-or-less', 'time-to-make', 'course...</td>\n",
       "      <td>[173.4, 18.0, 0.0, 17.0, 22.0, 35.0, 1.0]</td>\n",
       "      <td>9</td>\n",
       "      <td>['preheat oven to 425 degrees f', 'press dough...</td>\n",
       "      <td>this recipe calls for the crust to be prebaked...</td>\n",
       "      <td>['prepared pizza crust', 'sausage patty', 'egg...</td>\n",
       "      <td>6</td>\n",
       "      <td>2002-06-17</td>\n",
       "    </tr>\n",
       "    <tr>\n",
       "      <th>2</th>\n",
       "      <td>all in the kitchen  chili</td>\n",
       "      <td>112140</td>\n",
       "      <td>130</td>\n",
       "      <td>196586</td>\n",
       "      <td>2005-02-25</td>\n",
       "      <td>['time-to-make', 'course', 'preparation', 'mai...</td>\n",
       "      <td>[269.8, 22.0, 32.0, 48.0, 39.0, 27.0, 5.0]</td>\n",
       "      <td>6</td>\n",
       "      <td>['brown ground beef in large pot', 'add choppe...</td>\n",
       "      <td>this modified version of 'mom's' chili was a h...</td>\n",
       "      <td>['ground beef', 'yellow onions', 'diced tomato...</td>\n",
       "      <td>13</td>\n",
       "      <td>2005-02-25</td>\n",
       "    </tr>\n",
       "    <tr>\n",
       "      <th>3</th>\n",
       "      <td>alouette  potatoes</td>\n",
       "      <td>59389</td>\n",
       "      <td>45</td>\n",
       "      <td>68585</td>\n",
       "      <td>2003-04-14</td>\n",
       "      <td>['60-minutes-or-less', 'time-to-make', 'course...</td>\n",
       "      <td>[368.1, 17.0, 10.0, 2.0, 14.0, 8.0, 20.0]</td>\n",
       "      <td>11</td>\n",
       "      <td>['place potatoes in a large pot of lightly sal...</td>\n",
       "      <td>this is a super easy, great tasting, make ahea...</td>\n",
       "      <td>['spreadable cheese with garlic and herbs', 'n...</td>\n",
       "      <td>11</td>\n",
       "      <td>2003-04-14</td>\n",
       "    </tr>\n",
       "    <tr>\n",
       "      <th>4</th>\n",
       "      <td>amish  tomato ketchup  for canning</td>\n",
       "      <td>44061</td>\n",
       "      <td>190</td>\n",
       "      <td>41706</td>\n",
       "      <td>2002-10-25</td>\n",
       "      <td>['weeknight', 'time-to-make', 'course', 'main-...</td>\n",
       "      <td>[352.9, 1.0, 337.0, 23.0, 3.0, 0.0, 28.0]</td>\n",
       "      <td>5</td>\n",
       "      <td>['mix all ingredients&amp; boil for 2 1 / 2 hours ...</td>\n",
       "      <td>my dh's amish mother raised him on this recipe...</td>\n",
       "      <td>['tomato juice', 'apple cider vinegar', 'sugar...</td>\n",
       "      <td>8</td>\n",
       "      <td>2002-10-25</td>\n",
       "    </tr>\n",
       "  </tbody>\n",
       "</table>\n",
       "</div>"
      ],
      "text/plain": [
       "                                         name  recipe_id  minutes  \\\n",
       "0  arriba   baked winter squash mexican style     137739       55   \n",
       "1            a bit different  breakfast pizza      31490       30   \n",
       "2                   all in the kitchen  chili     112140      130   \n",
       "3                          alouette  potatoes      59389       45   \n",
       "4          amish  tomato ketchup  for canning      44061      190   \n",
       "\n",
       "   contributor_id   submitted  \\\n",
       "0           47892  2005-09-16   \n",
       "1           26278  2002-06-17   \n",
       "2          196586  2005-02-25   \n",
       "3           68585  2003-04-14   \n",
       "4           41706  2002-10-25   \n",
       "\n",
       "                                                tags  \\\n",
       "0  ['60-minutes-or-less', 'time-to-make', 'course...   \n",
       "1  ['30-minutes-or-less', 'time-to-make', 'course...   \n",
       "2  ['time-to-make', 'course', 'preparation', 'mai...   \n",
       "3  ['60-minutes-or-less', 'time-to-make', 'course...   \n",
       "4  ['weeknight', 'time-to-make', 'course', 'main-...   \n",
       "\n",
       "                                    nutrition  n_steps  \\\n",
       "0       [51.5, 0.0, 13.0, 0.0, 2.0, 0.0, 4.0]       11   \n",
       "1   [173.4, 18.0, 0.0, 17.0, 22.0, 35.0, 1.0]        9   \n",
       "2  [269.8, 22.0, 32.0, 48.0, 39.0, 27.0, 5.0]        6   \n",
       "3   [368.1, 17.0, 10.0, 2.0, 14.0, 8.0, 20.0]       11   \n",
       "4   [352.9, 1.0, 337.0, 23.0, 3.0, 0.0, 28.0]        5   \n",
       "\n",
       "                                               steps  \\\n",
       "0  ['make a choice and proceed with recipe', 'dep...   \n",
       "1  ['preheat oven to 425 degrees f', 'press dough...   \n",
       "2  ['brown ground beef in large pot', 'add choppe...   \n",
       "3  ['place potatoes in a large pot of lightly sal...   \n",
       "4  ['mix all ingredients& boil for 2 1 / 2 hours ...   \n",
       "\n",
       "                                         description  \\\n",
       "0  autumn is my favorite time of year to cook! th...   \n",
       "1  this recipe calls for the crust to be prebaked...   \n",
       "2  this modified version of 'mom's' chili was a h...   \n",
       "3  this is a super easy, great tasting, make ahea...   \n",
       "4  my dh's amish mother raised him on this recipe...   \n",
       "\n",
       "                                         ingredients  n_ingredients  \\\n",
       "0  ['winter squash', 'mexican seasoning', 'mixed ...              7   \n",
       "1  ['prepared pizza crust', 'sausage patty', 'egg...              6   \n",
       "2  ['ground beef', 'yellow onions', 'diced tomato...             13   \n",
       "3  ['spreadable cheese with garlic and herbs', 'n...             11   \n",
       "4  ['tomato juice', 'apple cider vinegar', 'sugar...              8   \n",
       "\n",
       "  submitted_parsed  \n",
       "0       2005-09-16  \n",
       "1       2002-06-17  \n",
       "2       2005-02-25  \n",
       "3       2003-04-14  \n",
       "4       2002-10-25  "
      ]
     },
     "execution_count": 20,
     "metadata": {},
     "output_type": "execute_result"
    }
   ],
   "source": [
    "recipes_df=recipes_df.rename(columns={'id': 'recipe_id'})\n",
    "recipes_df.head()"
   ]
  },
  {
   "cell_type": "markdown",
   "metadata": {},
   "source": [
    "## Plotting and Analysis"
   ]
  },
  {
   "cell_type": "code",
   "execution_count": 21,
   "metadata": {},
   "outputs": [
    {
     "data": {
      "image/png": "[encoded data removed]",
      "text/plain": [
       "<Figure size 1080x504 with 1 Axes>"
      ]
     },
     "metadata": {
      "needs_background": "light"
     },
     "output_type": "display_data"
    }
   ],
   "source": [
    "#grouping by recipes and finding when there were a lot of recipes posted\n",
    "year_vs_count=pd.DataFrame(recipes_df.groupby(recipes_df['submitted_parsed'].dt.year).count()['recipe_id'])\n",
    "\n",
    "#plotting\n",
    "# Generate a bar plot showing the total number of recipes posted.\n",
    "\n",
    "#fixing the figure size\n",
    "plt.figure(figsize=(15,7))\n",
    "\n",
    "#list of x axis values\n",
    "xaxis=year_vs_count.index\n",
    "#print(xaxis)\n",
    "\n",
    "#plotting using pyplot\n",
    "barlist=plt.bar(xaxis, year_vs_count['recipe_id'], align=\"center\")\n",
    "\n",
    "#title,labels,setting limits and adding legnds\n",
    "plt.title('Recipe Count Vs Year')\n",
    "plt.xlabel('Year')\n",
    "plt.ylabel('Count')\n",
    "plt.ylim(0,max(year_vs_count['recipe_id'])+4000)\n",
    "plt.legend(['Total number of Recipes'], loc=\"best\")\n",
    "plt.xticks(xaxis,[1999, 2000, 2001, 2002, 2003, 2004, 2005, 2006, 2007, 2008, 2009,2010, 2011, 2012, 2013, 2014, 2015, 2016, 2017, 2018])\n",
    "barlist[8].set_color('r')\n",
    "plt.show()\n"
   ]
  },
  {
   "cell_type": "code",
   "execution_count": 22,
   "metadata": {},
   "outputs": [
    {
     "data": {
      "image/png": "[encoded data removed]",
      "text/plain": [
       "<Figure size 1080x504 with 1 Axes>"
      ]
     },
     "metadata": {
      "needs_background": "light"
     },
     "output_type": "display_data"
    }
   ],
   "source": [
    "#grouping by reviews and finding when there which year has a lot of recipes posted\n",
    "year_vs_count_reviews=pd.DataFrame(interaction_df.groupby(interaction_df['date_parsed'].dt.year).count()['recipe_id'])\n",
    "year_vs_count_reviews\n",
    "\n",
    "#plotting\n",
    "# Generate a bar plot showing the total number of reviews posted.\n",
    "\n",
    "#fixing the figure size\n",
    "plt.figure(figsize=(15,7))\n",
    "\n",
    "#list of x axis values\n",
    "xaxis=year_vs_count_reviews.index\n",
    "#print(xaxis)\n",
    "\n",
    "#plotting using pyplot\n",
    "barlist=plt.bar(xaxis, year_vs_count_reviews['recipe_id'], align=\"center\")\n",
    "\n",
    "#title,labels,setting limits and adding legnds\n",
    "plt.title('Reviews Count Vs Year')\n",
    "plt.xlabel('Year')\n",
    "plt.ylabel('Count')\n",
    "plt.ylim(0,max(year_vs_count_reviews['recipe_id'])+4000)\n",
    "plt.legend(['Total number of Reviews'], loc=\"best\")\n",
    "plt.xticks(xaxis,[2000, 2001, 2002, 2003, 2004, 2005, 2006, 2007, 2008, 2009,2010, 2011, 2012, 2013, 2014, 2015, 2016, 2017, 2018])\n",
    "barlist[8].set_color('r')\n",
    "plt.show()"
   ]
  },
  {
   "cell_type": "code",
   "execution_count": 23,
   "metadata": {},
   "outputs": [
    {
     "data": {
      "text/html": [
       "<div>\n",
       "<style scoped>\n",
       "    .dataframe tbody tr th:only-of-type {\n",
       "        vertical-align: middle;\n",
       "    }\n",
       "\n",
       "    .dataframe tbody tr th {\n",
       "        vertical-align: top;\n",
       "    }\n",
       "\n",
       "    .dataframe thead th {\n",
       "        text-align: right;\n",
       "    }\n",
       "</style>\n",
       "<table border=\"1\" class=\"dataframe\">\n",
       "  <thead>\n",
       "    <tr style=\"text-align: right;\">\n",
       "      <th></th>\n",
       "      <th>total reviews</th>\n",
       "      <th>average rating</th>\n",
       "    </tr>\n",
       "    <tr>\n",
       "      <th>recipe_id</th>\n",
       "      <th></th>\n",
       "      <th></th>\n",
       "    </tr>\n",
       "  </thead>\n",
       "  <tbody>\n",
       "    <tr>\n",
       "      <th>38</th>\n",
       "      <td>4</td>\n",
       "      <td>4.250000</td>\n",
       "    </tr>\n",
       "    <tr>\n",
       "      <th>39</th>\n",
       "      <td>1</td>\n",
       "      <td>3.000000</td>\n",
       "    </tr>\n",
       "    <tr>\n",
       "      <th>40</th>\n",
       "      <td>9</td>\n",
       "      <td>4.333333</td>\n",
       "    </tr>\n",
       "    <tr>\n",
       "      <th>41</th>\n",
       "      <td>2</td>\n",
       "      <td>4.500000</td>\n",
       "    </tr>\n",
       "    <tr>\n",
       "      <th>43</th>\n",
       "      <td>1</td>\n",
       "      <td>1.000000</td>\n",
       "    </tr>\n",
       "    <tr>\n",
       "      <th>...</th>\n",
       "      <td>...</td>\n",
       "      <td>...</td>\n",
       "    </tr>\n",
       "    <tr>\n",
       "      <th>537459</th>\n",
       "      <td>1</td>\n",
       "      <td>5.000000</td>\n",
       "    </tr>\n",
       "    <tr>\n",
       "      <th>537485</th>\n",
       "      <td>1</td>\n",
       "      <td>5.000000</td>\n",
       "    </tr>\n",
       "    <tr>\n",
       "      <th>537543</th>\n",
       "      <td>1</td>\n",
       "      <td>0.000000</td>\n",
       "    </tr>\n",
       "    <tr>\n",
       "      <th>537671</th>\n",
       "      <td>1</td>\n",
       "      <td>0.000000</td>\n",
       "    </tr>\n",
       "    <tr>\n",
       "      <th>537716</th>\n",
       "      <td>1</td>\n",
       "      <td>5.000000</td>\n",
       "    </tr>\n",
       "  </tbody>\n",
       "</table>\n",
       "<p>231630 rows × 2 columns</p>\n",
       "</div>"
      ],
      "text/plain": [
       "           total reviews  average rating\n",
       "recipe_id                               \n",
       "38                     4        4.250000\n",
       "39                     1        3.000000\n",
       "40                     9        4.333333\n",
       "41                     2        4.500000\n",
       "43                     1        1.000000\n",
       "...                  ...             ...\n",
       "537459                 1        5.000000\n",
       "537485                 1        5.000000\n",
       "537543                 1        0.000000\n",
       "537671                 1        0.000000\n",
       "537716                 1        5.000000\n",
       "\n",
       "[231630 rows x 2 columns]"
      ]
     },
     "execution_count": 23,
     "metadata": {},
     "output_type": "execute_result"
    }
   ],
   "source": [
    "#grouping by recipe id to find the maximum reviews count and finding teh recipe that is reviewed maximum\n",
    "count_of_reviews=interaction_df.groupby(interaction_df['recipe_id']).count()['user_id']\n",
    "average_rating=interaction_df.groupby(interaction_df['recipe_id']).mean()['rating']\n",
    "recipe_reviews_df=pd.DataFrame({'total reviews': count_of_reviews,\n",
    "                               'average rating':average_rating})\n",
    "recipe_reviews_df"
   ]
  },
  {
   "cell_type": "code",
   "execution_count": 24,
   "metadata": {},
   "outputs": [
    {
     "data": {
      "text/plain": [
       "recipe_id           226650\n",
       "total reviews       226650\n",
       "average rating      226650\n",
       "name                226650\n",
       "minutes             226650\n",
       "contributor_id      226650\n",
       "submitted           226650\n",
       "tags                226650\n",
       "nutrition           226650\n",
       "n_steps             226650\n",
       "steps               226650\n",
       "description         226650\n",
       "ingredients         226650\n",
       "n_ingredients       226650\n",
       "submitted_parsed    226650\n",
       "dtype: int64"
      ]
     },
     "execution_count": 24,
     "metadata": {},
     "output_type": "execute_result"
    }
   ],
   "source": [
    "#merging the reviews dataframe with the recipes by id\n",
    "\n",
    "recipe_reviews_df=recipe_reviews_df.merge(recipes_df,on='recipe_id',how='left')\n",
    "recipe_reviews_df=recipe_reviews_df.dropna()\n",
    "recipe_reviews_df.count()"
   ]
  },
  {
   "cell_type": "code",
   "execution_count": 25,
   "metadata": {},
   "outputs": [
    {
     "name": "stderr",
     "output_type": "stream",
     "text": [
      "<ipython-input-25-d7a6c9f1508f>:3: SettingWithCopyWarning: \n",
      "A value is trying to be set on a copy of a slice from a DataFrame.\n",
      "Try using .loc[row_indexer,col_indexer] = value instead\n",
      "\n",
      "See the caveats in the documentation: https://pandas.pydata.org/pandas-docs/stable/user_guide/indexing.html#returning-a-view-versus-a-copy\n",
      "  top_rated_recipes['name']=top_rated_recipes['name'].str.title()\n"
     ]
    }
   ],
   "source": [
    "#finding recipes that has 300+reviews and ratings greater than 4.5\n",
    "top_rated_recipes=recipe_reviews_df.loc[(recipe_reviews_df['average rating']>=4.5)& (recipe_reviews_df['total reviews']>=500)]\n",
    "top_rated_recipes['name']=top_rated_recipes['name'].str.title()\n"
   ]
  },
  {
   "cell_type": "code",
   "execution_count": 26,
   "metadata": {},
   "outputs": [
    {
     "data": {
      "text/html": [
       "<div>\n",
       "<style scoped>\n",
       "    .dataframe tbody tr th:only-of-type {\n",
       "        vertical-align: middle;\n",
       "    }\n",
       "\n",
       "    .dataframe tbody tr th {\n",
       "        vertical-align: top;\n",
       "    }\n",
       "\n",
       "    .dataframe thead th {\n",
       "        text-align: right;\n",
       "    }\n",
       "</style>\n",
       "<table border=\"1\" class=\"dataframe\">\n",
       "  <thead>\n",
       "    <tr style=\"text-align: right;\">\n",
       "      <th></th>\n",
       "      <th>recipe_id</th>\n",
       "      <th>name</th>\n",
       "      <th>total reviews</th>\n",
       "    </tr>\n",
       "  </thead>\n",
       "  <tbody>\n",
       "    <tr>\n",
       "      <th>6</th>\n",
       "      <td>39087</td>\n",
       "      <td>Creamy Cajun Chicken Pasta</td>\n",
       "      <td>1448</td>\n",
       "    </tr>\n",
       "    <tr>\n",
       "      <th>5</th>\n",
       "      <td>32204</td>\n",
       "      <td>Whatever Floats Your Boat  Brownies</td>\n",
       "      <td>1220</td>\n",
       "    </tr>\n",
       "    <tr>\n",
       "      <th>9</th>\n",
       "      <td>69173</td>\n",
       "      <td>Kittencal S Italian Melt In Your Mouth Meatballs</td>\n",
       "      <td>997</td>\n",
       "    </tr>\n",
       "    <tr>\n",
       "      <th>11</th>\n",
       "      <td>82102</td>\n",
       "      <td>Kittencal S Moist Cheddar Garlic Oven Fried Ch...</td>\n",
       "      <td>855</td>\n",
       "    </tr>\n",
       "    <tr>\n",
       "      <th>3</th>\n",
       "      <td>28148</td>\n",
       "      <td>Oven Fried Chicken Chimichangas</td>\n",
       "      <td>802</td>\n",
       "    </tr>\n",
       "    <tr>\n",
       "      <th>8</th>\n",
       "      <td>63689</td>\n",
       "      <td>My Family S Favorite Sloppy Joes  Pizza Joes</td>\n",
       "      <td>720</td>\n",
       "    </tr>\n",
       "    <tr>\n",
       "      <th>13</th>\n",
       "      <td>150863</td>\n",
       "      <td>Panera S Cream Cheese Potato Soup</td>\n",
       "      <td>714</td>\n",
       "    </tr>\n",
       "    <tr>\n",
       "      <th>10</th>\n",
       "      <td>77397</td>\n",
       "      <td>Kittencal S 5 Minute Cinnamon Flop Brunch Cake</td>\n",
       "      <td>627</td>\n",
       "    </tr>\n",
       "    <tr>\n",
       "      <th>4</th>\n",
       "      <td>29679</td>\n",
       "      <td>Reeses Squares   5 Ingredients   No Bake  Reese S</td>\n",
       "      <td>596</td>\n",
       "    </tr>\n",
       "    <tr>\n",
       "      <th>1</th>\n",
       "      <td>4627</td>\n",
       "      <td>Chicken Tortilla Soup Ii</td>\n",
       "      <td>591</td>\n",
       "    </tr>\n",
       "    <tr>\n",
       "      <th>7</th>\n",
       "      <td>43509</td>\n",
       "      <td>Crumb Topped Banana Muffins</td>\n",
       "      <td>540</td>\n",
       "    </tr>\n",
       "    <tr>\n",
       "      <th>0</th>\n",
       "      <td>2496</td>\n",
       "      <td>Dark Chocolate Cake</td>\n",
       "      <td>516</td>\n",
       "    </tr>\n",
       "    <tr>\n",
       "      <th>12</th>\n",
       "      <td>89207</td>\n",
       "      <td>Kittencal S Chocolate Frosting Icing</td>\n",
       "      <td>509</td>\n",
       "    </tr>\n",
       "    <tr>\n",
       "      <th>2</th>\n",
       "      <td>9272</td>\n",
       "      <td>Wonderful Salsa</td>\n",
       "      <td>507</td>\n",
       "    </tr>\n",
       "  </tbody>\n",
       "</table>\n",
       "</div>"
      ],
      "text/plain": [
       "    recipe_id                                               name  \\\n",
       "6       39087                         Creamy Cajun Chicken Pasta   \n",
       "5       32204                Whatever Floats Your Boat  Brownies   \n",
       "9       69173   Kittencal S Italian Melt In Your Mouth Meatballs   \n",
       "11      82102  Kittencal S Moist Cheddar Garlic Oven Fried Ch...   \n",
       "3       28148                    Oven Fried Chicken Chimichangas   \n",
       "8       63689       My Family S Favorite Sloppy Joes  Pizza Joes   \n",
       "13     150863                  Panera S Cream Cheese Potato Soup   \n",
       "10      77397     Kittencal S 5 Minute Cinnamon Flop Brunch Cake   \n",
       "4       29679  Reeses Squares   5 Ingredients   No Bake  Reese S   \n",
       "1        4627                           Chicken Tortilla Soup Ii   \n",
       "7       43509                        Crumb Topped Banana Muffins   \n",
       "0        2496                                Dark Chocolate Cake   \n",
       "12      89207               Kittencal S Chocolate Frosting Icing   \n",
       "2        9272                                    Wonderful Salsa   \n",
       "\n",
       "    total reviews  \n",
       "6            1448  \n",
       "5            1220  \n",
       "9             997  \n",
       "11            855  \n",
       "3             802  \n",
       "8             720  \n",
       "13            714  \n",
       "10            627  \n",
       "4             596  \n",
       "1             591  \n",
       "7             540  \n",
       "0             516  \n",
       "12            509  \n",
       "2             507  "
      ]
     },
     "execution_count": 26,
     "metadata": {},
     "output_type": "execute_result"
    }
   ],
   "source": [
    "top_rated_recipes=top_rated_recipes.reset_index(drop=True)\n",
    "top_rated_recipes=top_rated_recipes.sort_values(by=['total reviews'],ascending=False)\n",
    "\n",
    "#top 15 recipes\n",
    "top_rated_recipes[['recipe_id','name','total reviews']]"
   ]
  },
  {
   "cell_type": "code",
   "execution_count": 27,
   "metadata": {},
   "outputs": [
    {
     "name": "stderr",
     "output_type": "stream",
     "text": [
      "<ipython-input-27-c7d02a439699>:18: SettingWithCopyWarning: \n",
      "A value is trying to be set on a copy of a slice from a DataFrame.\n",
      "Try using .loc[row_indexer,col_indexer] = value instead\n",
      "\n",
      "See the caveats in the documentation: https://pandas.pydata.org/pandas-docs/stable/user_guide/indexing.html#returning-a-view-versus-a-copy\n",
      "  recipes_25_reviews[\"Calories\"]=Calories\n",
      "<ipython-input-27-c7d02a439699>:19: SettingWithCopyWarning: \n",
      "A value is trying to be set on a copy of a slice from a DataFrame.\n",
      "Try using .loc[row_indexer,col_indexer] = value instead\n",
      "\n",
      "See the caveats in the documentation: https://pandas.pydata.org/pandas-docs/stable/user_guide/indexing.html#returning-a-view-versus-a-copy\n",
      "  recipes_25_reviews['Total Fat']=total_fat\n",
      "<ipython-input-27-c7d02a439699>:20: SettingWithCopyWarning: \n",
      "A value is trying to be set on a copy of a slice from a DataFrame.\n",
      "Try using .loc[row_indexer,col_indexer] = value instead\n",
      "\n",
      "See the caveats in the documentation: https://pandas.pydata.org/pandas-docs/stable/user_guide/indexing.html#returning-a-view-versus-a-copy\n",
      "  recipes_25_reviews['sugar']=sugar\n",
      "<ipython-input-27-c7d02a439699>:21: SettingWithCopyWarning: \n",
      "A value is trying to be set on a copy of a slice from a DataFrame.\n",
      "Try using .loc[row_indexer,col_indexer] = value instead\n",
      "\n",
      "See the caveats in the documentation: https://pandas.pydata.org/pandas-docs/stable/user_guide/indexing.html#returning-a-view-versus-a-copy\n",
      "  recipes_25_reviews['sodium']=sodium\n",
      "<ipython-input-27-c7d02a439699>:22: SettingWithCopyWarning: \n",
      "A value is trying to be set on a copy of a slice from a DataFrame.\n",
      "Try using .loc[row_indexer,col_indexer] = value instead\n",
      "\n",
      "See the caveats in the documentation: https://pandas.pydata.org/pandas-docs/stable/user_guide/indexing.html#returning-a-view-versus-a-copy\n",
      "  recipes_25_reviews['protein']=protein\n",
      "<ipython-input-27-c7d02a439699>:24: SettingWithCopyWarning: \n",
      "A value is trying to be set on a copy of a slice from a DataFrame.\n",
      "Try using .loc[row_indexer,col_indexer] = value instead\n",
      "\n",
      "See the caveats in the documentation: https://pandas.pydata.org/pandas-docs/stable/user_guide/indexing.html#returning-a-view-versus-a-copy\n",
      "  recipes_25_reviews[\"Calories\"]=pd.to_numeric(recipes_25_reviews[\"Calories\"])\n",
      "<ipython-input-27-c7d02a439699>:25: SettingWithCopyWarning: \n",
      "A value is trying to be set on a copy of a slice from a DataFrame.\n",
      "Try using .loc[row_indexer,col_indexer] = value instead\n",
      "\n",
      "See the caveats in the documentation: https://pandas.pydata.org/pandas-docs/stable/user_guide/indexing.html#returning-a-view-versus-a-copy\n",
      "  recipes_25_reviews[\"Total Fat\"]=pd.to_numeric(recipes_25_reviews[\"Total Fat\"])\n",
      "<ipython-input-27-c7d02a439699>:26: SettingWithCopyWarning: \n",
      "A value is trying to be set on a copy of a slice from a DataFrame.\n",
      "Try using .loc[row_indexer,col_indexer] = value instead\n",
      "\n",
      "See the caveats in the documentation: https://pandas.pydata.org/pandas-docs/stable/user_guide/indexing.html#returning-a-view-versus-a-copy\n",
      "  recipes_25_reviews[\"sugar\"]=pd.to_numeric(recipes_25_reviews[\"sugar\"])\n",
      "<ipython-input-27-c7d02a439699>:27: SettingWithCopyWarning: \n",
      "A value is trying to be set on a copy of a slice from a DataFrame.\n",
      "Try using .loc[row_indexer,col_indexer] = value instead\n",
      "\n",
      "See the caveats in the documentation: https://pandas.pydata.org/pandas-docs/stable/user_guide/indexing.html#returning-a-view-versus-a-copy\n",
      "  recipes_25_reviews[\"sodium\"]=pd.to_numeric(recipes_25_reviews[\"sodium\"])\n",
      "<ipython-input-27-c7d02a439699>:28: SettingWithCopyWarning: \n",
      "A value is trying to be set on a copy of a slice from a DataFrame.\n",
      "Try using .loc[row_indexer,col_indexer] = value instead\n",
      "\n",
      "See the caveats in the documentation: https://pandas.pydata.org/pandas-docs/stable/user_guide/indexing.html#returning-a-view-versus-a-copy\n",
      "  recipes_25_reviews[\"protein\"]=pd.to_numeric(recipes_25_reviews[\"protein\"])\n"
     ]
    },
    {
     "data": {
      "text/html": [
       "<div>\n",
       "<style scoped>\n",
       "    .dataframe tbody tr th:only-of-type {\n",
       "        vertical-align: middle;\n",
       "    }\n",
       "\n",
       "    .dataframe tbody tr th {\n",
       "        vertical-align: top;\n",
       "    }\n",
       "\n",
       "    .dataframe thead th {\n",
       "        text-align: right;\n",
       "    }\n",
       "</style>\n",
       "<table border=\"1\" class=\"dataframe\">\n",
       "  <thead>\n",
       "    <tr style=\"text-align: right;\">\n",
       "      <th></th>\n",
       "      <th>recipe_id</th>\n",
       "      <th>total reviews</th>\n",
       "      <th>average rating</th>\n",
       "      <th>name</th>\n",
       "      <th>minutes</th>\n",
       "      <th>contributor_id</th>\n",
       "      <th>submitted</th>\n",
       "      <th>tags</th>\n",
       "      <th>nutrition</th>\n",
       "      <th>n_steps</th>\n",
       "      <th>steps</th>\n",
       "      <th>description</th>\n",
       "      <th>ingredients</th>\n",
       "      <th>n_ingredients</th>\n",
       "      <th>submitted_parsed</th>\n",
       "      <th>Calories</th>\n",
       "      <th>Total Fat</th>\n",
       "      <th>sugar</th>\n",
       "      <th>sodium</th>\n",
       "      <th>protein</th>\n",
       "    </tr>\n",
       "  </thead>\n",
       "  <tbody>\n",
       "    <tr>\n",
       "      <th>59</th>\n",
       "      <td>153</td>\n",
       "      <td>48</td>\n",
       "      <td>3.791667</td>\n",
       "      <td>amish friendship bread and starter</td>\n",
       "      <td>70.0</td>\n",
       "      <td>1540.0</td>\n",
       "      <td>1999-09-06</td>\n",
       "      <td>['time-to-make', 'course', 'cuisine', 'prepara...</td>\n",
       "      <td>[615.9, 32.0, 260.0, 15.0, 16.0, 19.0, 33.0]</td>\n",
       "      <td>19.0</td>\n",
       "      <td>['place one cup each sugar , milk , and flour ...</td>\n",
       "      <td>many recipes have been posted for the amish br...</td>\n",
       "      <td>['sugar', 'milk', 'flour', 'oil', 'eggs', 'van...</td>\n",
       "      <td>12.0</td>\n",
       "      <td>1999-09-06</td>\n",
       "      <td>615.9</td>\n",
       "      <td>32.0</td>\n",
       "      <td>260.0</td>\n",
       "      <td>15.0</td>\n",
       "      <td>16.0</td>\n",
       "    </tr>\n",
       "    <tr>\n",
       "      <th>82</th>\n",
       "      <td>192</td>\n",
       "      <td>29</td>\n",
       "      <td>4.689655</td>\n",
       "      <td>classic cream scones</td>\n",
       "      <td>85.0</td>\n",
       "      <td>1609.0</td>\n",
       "      <td>1999-08-13</td>\n",
       "      <td>['weeknight', 'time-to-make', 'course', 'prepa...</td>\n",
       "      <td>[168.2, 12.0, 28.0, 3.0, 5.0, 24.0, 7.0]</td>\n",
       "      <td>20.0</td>\n",
       "      <td>['preheat oven to 425f', 'lightly butter a bak...</td>\n",
       "      <td>you're best off describing scones to a german ...</td>\n",
       "      <td>['all-purpose flour', 'granulated sugar', 'bak...</td>\n",
       "      <td>9.0</td>\n",
       "      <td>1999-08-13</td>\n",
       "      <td>168.2</td>\n",
       "      <td>12.0</td>\n",
       "      <td>28.0</td>\n",
       "      <td>3.0</td>\n",
       "      <td>5.0</td>\n",
       "    </tr>\n",
       "    <tr>\n",
       "      <th>87</th>\n",
       "      <td>198</td>\n",
       "      <td>49</td>\n",
       "      <td>4.367347</td>\n",
       "      <td>chinese hot and sour pork soup</td>\n",
       "      <td>40.0</td>\n",
       "      <td>1545.0</td>\n",
       "      <td>1999-09-18</td>\n",
       "      <td>['60-minutes-or-less', 'time-to-make', 'course...</td>\n",
       "      <td>[368.7, 20.0, 41.0, 60.0, 63.0, 14.0, 10.0]</td>\n",
       "      <td>11.0</td>\n",
       "      <td>['bring stock to a simmer', 'add soy sauce , p...</td>\n",
       "      <td>edited recipe from other viewers recomendations</td>\n",
       "      <td>['chicken stock', 'lean pork', 'garlic and red...</td>\n",
       "      <td>17.0</td>\n",
       "      <td>1999-09-18</td>\n",
       "      <td>368.7</td>\n",
       "      <td>20.0</td>\n",
       "      <td>41.0</td>\n",
       "      <td>60.0</td>\n",
       "      <td>63.0</td>\n",
       "    </tr>\n",
       "    <tr>\n",
       "      <th>112</th>\n",
       "      <td>246</td>\n",
       "      <td>65</td>\n",
       "      <td>4.615385</td>\n",
       "      <td>lee s hot crab dip</td>\n",
       "      <td>45.0</td>\n",
       "      <td>25843.0</td>\n",
       "      <td>1999-09-01</td>\n",
       "      <td>['60-minutes-or-less', 'time-to-make', 'course...</td>\n",
       "      <td>[180.7, 23.0, 7.0, 16.0, 16.0, 40.0, 1.0]</td>\n",
       "      <td>8.0</td>\n",
       "      <td>['remove cartilage from crab meat', 'in a larg...</td>\n",
       "      <td>lee's hot crab dip</td>\n",
       "      <td>['crabmeat', 'cream cheese', 'sour cream', 'ma...</td>\n",
       "      <td>10.0</td>\n",
       "      <td>1999-09-01</td>\n",
       "      <td>180.7</td>\n",
       "      <td>23.0</td>\n",
       "      <td>7.0</td>\n",
       "      <td>16.0</td>\n",
       "      <td>16.0</td>\n",
       "    </tr>\n",
       "    <tr>\n",
       "      <th>168</th>\n",
       "      <td>346</td>\n",
       "      <td>30</td>\n",
       "      <td>4.433333</td>\n",
       "      <td>potatoes tapas in garlic mayonnaise  potatoes ...</td>\n",
       "      <td>20.0</td>\n",
       "      <td>1589.0</td>\n",
       "      <td>1999-08-18</td>\n",
       "      <td>['30-minutes-or-less', 'time-to-make', 'course...</td>\n",
       "      <td>[184.2, 15.0, 10.0, 8.0, 4.0, 7.0, 7.0]</td>\n",
       "      <td>4.0</td>\n",
       "      <td>['boil potatoes in salt water until tender', '...</td>\n",
       "      <td>\"tapas, the little dishes of spain\" by penelop...</td>\n",
       "      <td>['salad potatoes', 'mayonnaise', 'garlic clove...</td>\n",
       "      <td>5.0</td>\n",
       "      <td>1999-08-18</td>\n",
       "      <td>184.2</td>\n",
       "      <td>15.0</td>\n",
       "      <td>10.0</td>\n",
       "      <td>8.0</td>\n",
       "      <td>4.0</td>\n",
       "    </tr>\n",
       "  </tbody>\n",
       "</table>\n",
       "</div>"
      ],
      "text/plain": [
       "     recipe_id  total reviews  average rating  \\\n",
       "59         153             48        3.791667   \n",
       "82         192             29        4.689655   \n",
       "87         198             49        4.367347   \n",
       "112        246             65        4.615385   \n",
       "168        346             30        4.433333   \n",
       "\n",
       "                                                  name  minutes  \\\n",
       "59                  amish friendship bread and starter     70.0   \n",
       "82                                classic cream scones     85.0   \n",
       "87                      chinese hot and sour pork soup     40.0   \n",
       "112                                 lee s hot crab dip     45.0   \n",
       "168  potatoes tapas in garlic mayonnaise  potatoes ...     20.0   \n",
       "\n",
       "     contributor_id   submitted  \\\n",
       "59           1540.0  1999-09-06   \n",
       "82           1609.0  1999-08-13   \n",
       "87           1545.0  1999-09-18   \n",
       "112         25843.0  1999-09-01   \n",
       "168          1589.0  1999-08-18   \n",
       "\n",
       "                                                  tags  \\\n",
       "59   ['time-to-make', 'course', 'cuisine', 'prepara...   \n",
       "82   ['weeknight', 'time-to-make', 'course', 'prepa...   \n",
       "87   ['60-minutes-or-less', 'time-to-make', 'course...   \n",
       "112  ['60-minutes-or-less', 'time-to-make', 'course...   \n",
       "168  ['30-minutes-or-less', 'time-to-make', 'course...   \n",
       "\n",
       "                                        nutrition  n_steps  \\\n",
       "59   [615.9, 32.0, 260.0, 15.0, 16.0, 19.0, 33.0]     19.0   \n",
       "82       [168.2, 12.0, 28.0, 3.0, 5.0, 24.0, 7.0]     20.0   \n",
       "87    [368.7, 20.0, 41.0, 60.0, 63.0, 14.0, 10.0]     11.0   \n",
       "112     [180.7, 23.0, 7.0, 16.0, 16.0, 40.0, 1.0]      8.0   \n",
       "168       [184.2, 15.0, 10.0, 8.0, 4.0, 7.0, 7.0]      4.0   \n",
       "\n",
       "                                                 steps  \\\n",
       "59   ['place one cup each sugar , milk , and flour ...   \n",
       "82   ['preheat oven to 425f', 'lightly butter a bak...   \n",
       "87   ['bring stock to a simmer', 'add soy sauce , p...   \n",
       "112  ['remove cartilage from crab meat', 'in a larg...   \n",
       "168  ['boil potatoes in salt water until tender', '...   \n",
       "\n",
       "                                           description  \\\n",
       "59   many recipes have been posted for the amish br...   \n",
       "82   you're best off describing scones to a german ...   \n",
       "87     edited recipe from other viewers recomendations   \n",
       "112                                 lee's hot crab dip   \n",
       "168  \"tapas, the little dishes of spain\" by penelop...   \n",
       "\n",
       "                                           ingredients  n_ingredients  \\\n",
       "59   ['sugar', 'milk', 'flour', 'oil', 'eggs', 'van...           12.0   \n",
       "82   ['all-purpose flour', 'granulated sugar', 'bak...            9.0   \n",
       "87   ['chicken stock', 'lean pork', 'garlic and red...           17.0   \n",
       "112  ['crabmeat', 'cream cheese', 'sour cream', 'ma...           10.0   \n",
       "168  ['salad potatoes', 'mayonnaise', 'garlic clove...            5.0   \n",
       "\n",
       "    submitted_parsed  Calories  Total Fat  sugar  sodium  protein  \n",
       "59        1999-09-06     615.9       32.0  260.0    15.0     16.0  \n",
       "82        1999-08-13     168.2       12.0   28.0     3.0      5.0  \n",
       "87        1999-09-18     368.7       20.0   41.0    60.0     63.0  \n",
       "112       1999-09-01     180.7       23.0    7.0    16.0     16.0  \n",
       "168       1999-08-18     184.2       15.0   10.0     8.0      4.0  "
      ]
     },
     "execution_count": 27,
     "metadata": {},
     "output_type": "execute_result"
    }
   ],
   "source": [
    "recipes_25_reviews=recipe_reviews_df.loc[recipe_reviews_df['total reviews']>=25]\n",
    "\n",
    "Calories=[]\n",
    "total_fat=[]\n",
    "sugar=[]\n",
    "sodium=[]\n",
    "protein=[]\n",
    "\n",
    "for index,rows in recipes_25_reviews.iterrows():\n",
    "    nutri=rows['nutrition'].strip('][').split(', ')\n",
    "    Calories.append(nutri[0])\n",
    "    total_fat.append(nutri[1])\n",
    "    sugar.append(nutri[2])\n",
    "    sodium.append(nutri[3])\n",
    "    protein.append(nutri[4])\n",
    "    \n",
    "    \n",
    "recipes_25_reviews[\"Calories\"]=Calories\n",
    "recipes_25_reviews['Total Fat']=total_fat\n",
    "recipes_25_reviews['sugar']=sugar\n",
    "recipes_25_reviews['sodium']=sodium\n",
    "recipes_25_reviews['protein']=protein\n",
    "\n",
    "recipes_25_reviews[\"Calories\"]=pd.to_numeric(recipes_25_reviews[\"Calories\"])\n",
    "recipes_25_reviews[\"Total Fat\"]=pd.to_numeric(recipes_25_reviews[\"Total Fat\"])\n",
    "recipes_25_reviews[\"sugar\"]=pd.to_numeric(recipes_25_reviews[\"sugar\"])\n",
    "recipes_25_reviews[\"sodium\"]=pd.to_numeric(recipes_25_reviews[\"sodium\"])\n",
    "recipes_25_reviews[\"protein\"]=pd.to_numeric(recipes_25_reviews[\"protein\"])\n",
    "\n",
    "recipes_25_reviews.head()\n",
    "\n",
    "\n",
    "\n"
   ]
  },
  {
   "cell_type": "code",
   "execution_count": 28,
   "metadata": {},
   "outputs": [
    {
     "data": {
      "text/plain": [
       "<AxesSubplot:xlabel='n_steps', ylabel='Count'>"
      ]
     },
     "execution_count": 28,
     "metadata": {},
     "output_type": "execute_result"
    },
    {
     "data": {
      "image/png": "[encoded data removed]",
      "text/plain": [
       "<Figure size 432x288 with 1 Axes>"
      ]
     },
     "metadata": {
      "needs_background": "light"
     },
     "output_type": "display_data"
    }
   ],
   "source": [
    "#plotting no of steps\n",
    "sns.histplot(data=recipes_25_reviews, x=\"n_steps\",kde=True,bins=35)"
   ]
  },
  {
   "cell_type": "code",
   "execution_count": 29,
   "metadata": {},
   "outputs": [
    {
     "data": {
      "text/plain": [
       "<AxesSubplot:xlabel='average rating', ylabel='Count'>"
      ]
     },
     "execution_count": 29,
     "metadata": {},
     "output_type": "execute_result"
    },
    {
     "data": {
      "image/png": "[encoded data removed]",
      "text/plain": [
       "<Figure size 432x288 with 1 Axes>"
      ]
     },
     "metadata": {
      "needs_background": "light"
     },
     "output_type": "display_data"
    }
   ],
   "source": [
    "#plotting for ratings\n",
    "sns.histplot(data=recipes_25_reviews, x=\"average rating\",kde=True,bins=35)"
   ]
  },
  {
   "cell_type": "code",
   "execution_count": 30,
   "metadata": {},
   "outputs": [
    {
     "data": {
      "text/plain": [
       "<AxesSubplot:xlabel='n_ingredients', ylabel='Count'>"
      ]
     },
     "execution_count": 30,
     "metadata": {},
     "output_type": "execute_result"
    },
    {
     "data": {
      "image/png": "[encoded data removed]",
      "text/plain": [
       "<Figure size 432x288 with 1 Axes>"
      ]
     },
     "metadata": {
      "needs_background": "light"
     },
     "output_type": "display_data"
    }
   ],
   "source": [
    "#plotting for ingredients\n",
    "sns.histplot(data=recipes_25_reviews, x=\"n_ingredients\",bins=29,kde=True)"
   ]
  },
  {
   "cell_type": "code",
   "execution_count": 31,
   "metadata": {},
   "outputs": [
    {
     "data": {
      "text/plain": [
       "<AxesSubplot:xlabel='Calories', ylabel='Count'>"
      ]
     },
     "execution_count": 31,
     "metadata": {},
     "output_type": "execute_result"
    },
    {
     "data": {
      "image/png": "[encoded data removed]",
      "text/plain": [
       "<Figure size 432x288 with 1 Axes>"
      ]
     },
     "metadata": {
      "needs_background": "light"
     },
     "output_type": "display_data"
    }
   ],
   "source": [
    "# Calculate the IQR and quantitatively determine if there are any potential outliers.      \n",
    "quartiles = recipes_25_reviews['Calories'].quantile([.25,.5,.75])\n",
    "lowerq = quartiles[0.25]\n",
    "upperq = quartiles[0.75]\n",
    "iqr = upperq-lowerq\n",
    "lower_bound = lowerq - (1.5*iqr)\n",
    "upper_bound = upperq + (1.5*iqr)\n",
    "outliers=recipes_25_reviews.loc[(recipes_25_reviews['Calories']>lower_bound) & (recipes_25_reviews['Calories']<upper_bound)]\n",
    "sns.histplot(data=outliers, x=\"Calories\",bins=30,kde=True)"
   ]
  },
  {
   "cell_type": "code",
   "execution_count": 32,
   "metadata": {},
   "outputs": [
    {
     "name": "stdout",
     "output_type": "stream",
     "text": [
      "The median Calories is : 312.1\n"
     ]
    },
    {
     "data": {
      "image/png": "[encoded data removed]",
      "text/plain": [
       "<Figure size 432x288 with 1 Axes>"
      ]
     },
     "metadata": {
      "needs_background": "light"
     },
     "output_type": "display_data"
    }
   ],
   "source": [
    "#corecting the scale\n",
    "sns.histplot(data=recipes_25_reviews, x=\"Calories\",bins=30,kde=True,log_scale=True)\n",
    "median_Cal=recipes_25_reviews['Calories'].median()\n",
    "print(f\"The median Calories is : {median_Cal}\")"
   ]
  },
  {
   "cell_type": "code",
   "execution_count": 33,
   "metadata": {},
   "outputs": [
    {
     "data": {
      "text/plain": [
       "<AxesSubplot:>"
      ]
     },
     "execution_count": 33,
     "metadata": {},
     "output_type": "execute_result"
    },
    {
     "data": {
      "image/png": "[encoded data removed]",
      "text/plain": [
       "<Figure size 432x288 with 2 Axes>"
      ]
     },
     "metadata": {
      "needs_background": "light"
     },
     "output_type": "display_data"
    }
   ],
   "source": [
    "#correlation plot to see the relationship between the variables\n",
    "correlation=recipes_25_reviews.corr()\n",
    "mask = np.triu(np.ones_like(correlation, dtype=bool))\n",
    "sns.heatmap(correlation,mask=mask)"
   ]
  },
  {
   "cell_type": "code",
   "execution_count": 34,
   "metadata": {},
   "outputs": [
    {
     "name": "stderr",
     "output_type": "stream",
     "text": [
      "<ipython-input-34-7412744159c9>:7: SettingWithCopyWarning: \n",
      "A value is trying to be set on a copy of a slice from a DataFrame.\n",
      "Try using .loc[row_indexer,col_indexer] = value instead\n",
      "\n",
      "See the caveats in the documentation: https://pandas.pydata.org/pandas-docs/stable/user_guide/indexing.html#returning-a-view-versus-a-copy\n",
      "  recipes_25_reviews['ingredients']=ingredient_list\n"
     ]
    }
   ],
   "source": [
    "#converting the ingrideints into list\n",
    "ingredients=recipes_25_reviews['ingredients']\n",
    "ingredient_list=[]\n",
    "for i in ingredients:\n",
    "    ingri=i.strip('][').split(', ')\n",
    "    ingredient_list.append(ingri)\n",
    "recipes_25_reviews['ingredients']=ingredient_list\n"
   ]
  },
  {
   "cell_type": "code",
   "execution_count": 35,
   "metadata": {},
   "outputs": [],
   "source": [
    "#resetting index\n",
    "recipes_25_reviews=recipes_25_reviews.reset_index(drop=True)\n",
    "ing_list=[]\n",
    "all_ingridients=[]\n",
    "for index,rows in recipes_25_reviews.iterrows():\n",
    "    ing_list=rows['ingredients']\n",
    "    for ing in ing_list:\n",
    "        ing=ing.lower()\n",
    "        all_ingridients.append(ing)\n",
    "    \n",
    "        "
   ]
  },
  {
   "cell_type": "code",
   "execution_count": 36,
   "metadata": {},
   "outputs": [
    {
     "data": {
      "text/html": [
       "<div>\n",
       "<style scoped>\n",
       "    .dataframe tbody tr th:only-of-type {\n",
       "        vertical-align: middle;\n",
       "    }\n",
       "\n",
       "    .dataframe tbody tr th {\n",
       "        vertical-align: top;\n",
       "    }\n",
       "\n",
       "    .dataframe thead th {\n",
       "        text-align: right;\n",
       "    }\n",
       "</style>\n",
       "<table border=\"1\" class=\"dataframe\">\n",
       "  <thead>\n",
       "    <tr style=\"text-align: right;\">\n",
       "      <th></th>\n",
       "      <th>Ingredient</th>\n",
       "      <th>Count</th>\n",
       "    </tr>\n",
       "  </thead>\n",
       "  <tbody>\n",
       "    <tr>\n",
       "      <th>0</th>\n",
       "      <td>'salt'</td>\n",
       "      <td>2561</td>\n",
       "    </tr>\n",
       "    <tr>\n",
       "      <th>1</th>\n",
       "      <td>'butter'</td>\n",
       "      <td>1645</td>\n",
       "    </tr>\n",
       "    <tr>\n",
       "      <th>2</th>\n",
       "      <td>'sugar'</td>\n",
       "      <td>1265</td>\n",
       "    </tr>\n",
       "    <tr>\n",
       "      <th>3</th>\n",
       "      <td>'water'</td>\n",
       "      <td>1027</td>\n",
       "    </tr>\n",
       "    <tr>\n",
       "      <th>4</th>\n",
       "      <td>'onion'</td>\n",
       "      <td>966</td>\n",
       "    </tr>\n",
       "    <tr>\n",
       "      <th>5</th>\n",
       "      <td>'eggs'</td>\n",
       "      <td>949</td>\n",
       "    </tr>\n",
       "    <tr>\n",
       "      <th>6</th>\n",
       "      <td>'flour'</td>\n",
       "      <td>876</td>\n",
       "    </tr>\n",
       "    <tr>\n",
       "      <th>7</th>\n",
       "      <td>'milk'</td>\n",
       "      <td>747</td>\n",
       "    </tr>\n",
       "    <tr>\n",
       "      <th>8</th>\n",
       "      <td>'olive oil'</td>\n",
       "      <td>711</td>\n",
       "    </tr>\n",
       "    <tr>\n",
       "      <th>9</th>\n",
       "      <td>'brown sugar'</td>\n",
       "      <td>607</td>\n",
       "    </tr>\n",
       "  </tbody>\n",
       "</table>\n",
       "</div>"
      ],
      "text/plain": [
       "      Ingredient  Count\n",
       "0         'salt'   2561\n",
       "1       'butter'   1645\n",
       "2        'sugar'   1265\n",
       "3        'water'   1027\n",
       "4        'onion'    966\n",
       "5         'eggs'    949\n",
       "6        'flour'    876\n",
       "7         'milk'    747\n",
       "8    'olive oil'    711\n",
       "9  'brown sugar'    607"
      ]
     },
     "execution_count": 36,
     "metadata": {},
     "output_type": "execute_result"
    }
   ],
   "source": [
    "ingridients_df=pd.DataFrame({'Ingridient':all_ingridients})\n",
    "value=ingridients_df['Ingridient'].value_counts()\n",
    "ingredients_count_df=pd.DataFrame({'Ingredient':value.index,\n",
    "                                  'Count':value.values})\n",
    "ingredients_count_df.sort_values(by=['Count'],ascending=False)\n",
    "top_10=ingredients_count_df.head(10)\n",
    "top_10\n"
   ]
  },
  {
   "cell_type": "code",
   "execution_count": 37,
   "metadata": {},
   "outputs": [
    {
     "data": {
      "image/png": "[encoded data removed]",
      "text/plain": [
       "<Figure size 1080x504 with 1 Axes>"
      ]
     },
     "metadata": {
      "needs_background": "light"
     },
     "output_type": "display_data"
    }
   ],
   "source": [
    "#fixing the figure size\n",
    "plt.figure(figsize=(15,7))\n",
    "\n",
    "#list of x axis values\n",
    "xaxis=top_10['Ingredient']\n",
    "#print(xaxis)\n",
    "\n",
    "#plotting using pyplot\n",
    "barlist=plt.bar(xaxis, top_10['Count'], align=\"center\")\n",
    "\n",
    "#title,labels,setting limits and adding legnds\n",
    "plt.title('Top 10 ingridents')\n",
    "plt.xlabel('Ingredients')\n",
    "plt.ylabel('Count')\n",
    "plt.ylim(0,max(top_10['Count'])+500)\n",
    "plt.legend(['Count'], loc=\"best\")\n",
    "#plt.xticks(xaxis,xaxis)\n",
    "#barlist[8].set_color('r')\n",
    "plt.show()"
   ]
  },
  {
   "cell_type": "code",
   "execution_count": null,
   "metadata": {},
   "outputs": [],
   "source": []
  }
 ],
 "metadata": {
  "kernelspec": {
   "display_name": "Python 3",
   "language": "python",
   "name": "python3"
  },
  "language_info": {
   "codemirror_mode": {
    "name": "ipython",
    "version": 3
   },
   "file_extension": ".py",
   "mimetype": "text/x-python",
   "name": "python",
   "nbconvert_exporter": "python",
   "pygments_lexer": "ipython3",
   "version": "3.8.5"
  }
 },
 "nbformat": 4,
 "nbformat_minor": 4
}
